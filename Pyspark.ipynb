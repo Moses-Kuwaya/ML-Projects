{
  "nbformat": 4,
  "nbformat_minor": 0,
  "metadata": {
    "colab": {
      "provenance": []
    },
    "kernelspec": {
      "name": "python3",
      "display_name": "Python 3"
    },
    "language_info": {
      "name": "python"
    }
  },
  "cells": [
    {
      "cell_type": "code",
      "execution_count": null,
      "metadata": {
        "colab": {
          "base_uri": "https://localhost:8080/"
        },
        "id": "BQ-O7cCOwf7a",
        "outputId": "3076d37d-2ff8-4678-92e4-fd133a1efa33"
      },
      "outputs": [
        {
          "output_type": "stream",
          "name": "stdout",
          "text": [
            "Collecting pyspark\n",
            "  Downloading pyspark-3.5.1.tar.gz (317.0 MB)\n",
            "\u001b[2K     \u001b[90m━━━━━━━━━━━━━━━━━━━━━━━━━━━━━━━━━━━━━━━━\u001b[0m \u001b[32m317.0/317.0 MB\u001b[0m \u001b[31m3.6 MB/s\u001b[0m eta \u001b[36m0:00:00\u001b[0m\n",
            "\u001b[?25h  Preparing metadata (setup.py) ... \u001b[?25l\u001b[?25hdone\n",
            "Requirement already satisfied: py4j==0.10.9.7 in /usr/local/lib/python3.10/dist-packages (from pyspark) (0.10.9.7)\n",
            "Building wheels for collected packages: pyspark\n",
            "  Building wheel for pyspark (setup.py) ... \u001b[?25l\u001b[?25hdone\n",
            "  Created wheel for pyspark: filename=pyspark-3.5.1-py2.py3-none-any.whl size=317488491 sha256=2e50e98a69814ec1b9c37ee7e630bf035161e244976bad787d7c1cd895e5208f\n",
            "  Stored in directory: /root/.cache/pip/wheels/80/1d/60/2c256ed38dddce2fdd93be545214a63e02fbd8d74fb0b7f3a6\n",
            "Successfully built pyspark\n",
            "Installing collected packages: pyspark\n",
            "Successfully installed pyspark-3.5.1\n"
          ]
        }
      ],
      "source": [
        "!pip install pyspark"
      ]
    },
    {
      "cell_type": "code",
      "source": [
        "import pyspark"
      ],
      "metadata": {
        "id": "X7ESPgmmwlxx"
      },
      "execution_count": null,
      "outputs": []
    },
    {
      "cell_type": "code",
      "source": [
        "import pandas as pd"
      ],
      "metadata": {
        "id": "wicvLFRSxudw"
      },
      "execution_count": null,
      "outputs": []
    },
    {
      "cell_type": "code",
      "source": [
        "!dir"
      ],
      "metadata": {
        "colab": {
          "base_uri": "https://localhost:8080/"
        },
        "id": "oFfwGE89zIMm",
        "outputId": "edfe82b8-3422-4d79-cdcf-0578bc8e19d4"
      },
      "execution_count": null,
      "outputs": [
        {
          "output_type": "stream",
          "name": "stdout",
          "text": [
            "drive  sample_data\n"
          ]
        }
      ]
    },
    {
      "cell_type": "code",
      "source": [
        "cd /content/drive/MyDrive"
      ],
      "metadata": {
        "colab": {
          "base_uri": "https://localhost:8080/"
        },
        "id": "qT3hWQf2xzb8",
        "outputId": "1d328b84-c9f4-4d8e-d7fd-c4ba1a9df363"
      },
      "execution_count": null,
      "outputs": [
        {
          "output_type": "stream",
          "name": "stdout",
          "text": [
            "/content/drive/MyDrive\n"
          ]
        }
      ]
    },
    {
      "cell_type": "code",
      "source": [
        "pd.read_csv('/content/drive/MyDrive/results.csv')"
      ],
      "metadata": {
        "colab": {
          "base_uri": "https://localhost:8080/",
          "height": 423
        },
        "id": "sTAVIvWcx8Mq",
        "outputId": "bd22e2aa-3fa4-403b-bf61-132ada9772e7"
      },
      "execution_count": null,
      "outputs": [
        {
          "output_type": "execute_result",
          "data": {
            "text/plain": [
              "           recording  Fraud_instances\n",
              "0   recording_01.mp3                0\n",
              "1   recording_02.mp3                0\n",
              "2   recording_03.mp3                0\n",
              "3   recording_00.mp3                5\n",
              "4   recording_09.mp3                0\n",
              "..               ...              ...\n",
              "95  recording_99.mp3                5\n",
              "96  recording_93.mp3                5\n",
              "97  recording_91.mp3                0\n",
              "98  recording_90.mp3                0\n",
              "99  recording_96.mp3                1\n",
              "\n",
              "[100 rows x 2 columns]"
            ],
            "text/html": [
              "\n",
              "  <div id=\"df-8e58f337-7841-4042-a011-c7e79081d1cc\" class=\"colab-df-container\">\n",
              "    <div>\n",
              "<style scoped>\n",
              "    .dataframe tbody tr th:only-of-type {\n",
              "        vertical-align: middle;\n",
              "    }\n",
              "\n",
              "    .dataframe tbody tr th {\n",
              "        vertical-align: top;\n",
              "    }\n",
              "\n",
              "    .dataframe thead th {\n",
              "        text-align: right;\n",
              "    }\n",
              "</style>\n",
              "<table border=\"1\" class=\"dataframe\">\n",
              "  <thead>\n",
              "    <tr style=\"text-align: right;\">\n",
              "      <th></th>\n",
              "      <th>recording</th>\n",
              "      <th>Fraud_instances</th>\n",
              "    </tr>\n",
              "  </thead>\n",
              "  <tbody>\n",
              "    <tr>\n",
              "      <th>0</th>\n",
              "      <td>recording_01.mp3</td>\n",
              "      <td>0</td>\n",
              "    </tr>\n",
              "    <tr>\n",
              "      <th>1</th>\n",
              "      <td>recording_02.mp3</td>\n",
              "      <td>0</td>\n",
              "    </tr>\n",
              "    <tr>\n",
              "      <th>2</th>\n",
              "      <td>recording_03.mp3</td>\n",
              "      <td>0</td>\n",
              "    </tr>\n",
              "    <tr>\n",
              "      <th>3</th>\n",
              "      <td>recording_00.mp3</td>\n",
              "      <td>5</td>\n",
              "    </tr>\n",
              "    <tr>\n",
              "      <th>4</th>\n",
              "      <td>recording_09.mp3</td>\n",
              "      <td>0</td>\n",
              "    </tr>\n",
              "    <tr>\n",
              "      <th>...</th>\n",
              "      <td>...</td>\n",
              "      <td>...</td>\n",
              "    </tr>\n",
              "    <tr>\n",
              "      <th>95</th>\n",
              "      <td>recording_99.mp3</td>\n",
              "      <td>5</td>\n",
              "    </tr>\n",
              "    <tr>\n",
              "      <th>96</th>\n",
              "      <td>recording_93.mp3</td>\n",
              "      <td>5</td>\n",
              "    </tr>\n",
              "    <tr>\n",
              "      <th>97</th>\n",
              "      <td>recording_91.mp3</td>\n",
              "      <td>0</td>\n",
              "    </tr>\n",
              "    <tr>\n",
              "      <th>98</th>\n",
              "      <td>recording_90.mp3</td>\n",
              "      <td>0</td>\n",
              "    </tr>\n",
              "    <tr>\n",
              "      <th>99</th>\n",
              "      <td>recording_96.mp3</td>\n",
              "      <td>1</td>\n",
              "    </tr>\n",
              "  </tbody>\n",
              "</table>\n",
              "<p>100 rows × 2 columns</p>\n",
              "</div>\n",
              "    <div class=\"colab-df-buttons\">\n",
              "\n",
              "  <div class=\"colab-df-container\">\n",
              "    <button class=\"colab-df-convert\" onclick=\"convertToInteractive('df-8e58f337-7841-4042-a011-c7e79081d1cc')\"\n",
              "            title=\"Convert this dataframe to an interactive table.\"\n",
              "            style=\"display:none;\">\n",
              "\n",
              "  <svg xmlns=\"http://www.w3.org/2000/svg\" height=\"24px\" viewBox=\"0 -960 960 960\">\n",
              "    <path d=\"M120-120v-720h720v720H120Zm60-500h600v-160H180v160Zm220 220h160v-160H400v160Zm0 220h160v-160H400v160ZM180-400h160v-160H180v160Zm440 0h160v-160H620v160ZM180-180h160v-160H180v160Zm440 0h160v-160H620v160Z\"/>\n",
              "  </svg>\n",
              "    </button>\n",
              "\n",
              "  <style>\n",
              "    .colab-df-container {\n",
              "      display:flex;\n",
              "      gap: 12px;\n",
              "    }\n",
              "\n",
              "    .colab-df-convert {\n",
              "      background-color: #E8F0FE;\n",
              "      border: none;\n",
              "      border-radius: 50%;\n",
              "      cursor: pointer;\n",
              "      display: none;\n",
              "      fill: #1967D2;\n",
              "      height: 32px;\n",
              "      padding: 0 0 0 0;\n",
              "      width: 32px;\n",
              "    }\n",
              "\n",
              "    .colab-df-convert:hover {\n",
              "      background-color: #E2EBFA;\n",
              "      box-shadow: 0px 1px 2px rgba(60, 64, 67, 0.3), 0px 1px 3px 1px rgba(60, 64, 67, 0.15);\n",
              "      fill: #174EA6;\n",
              "    }\n",
              "\n",
              "    .colab-df-buttons div {\n",
              "      margin-bottom: 4px;\n",
              "    }\n",
              "\n",
              "    [theme=dark] .colab-df-convert {\n",
              "      background-color: #3B4455;\n",
              "      fill: #D2E3FC;\n",
              "    }\n",
              "\n",
              "    [theme=dark] .colab-df-convert:hover {\n",
              "      background-color: #434B5C;\n",
              "      box-shadow: 0px 1px 3px 1px rgba(0, 0, 0, 0.15);\n",
              "      filter: drop-shadow(0px 1px 2px rgba(0, 0, 0, 0.3));\n",
              "      fill: #FFFFFF;\n",
              "    }\n",
              "  </style>\n",
              "\n",
              "    <script>\n",
              "      const buttonEl =\n",
              "        document.querySelector('#df-8e58f337-7841-4042-a011-c7e79081d1cc button.colab-df-convert');\n",
              "      buttonEl.style.display =\n",
              "        google.colab.kernel.accessAllowed ? 'block' : 'none';\n",
              "\n",
              "      async function convertToInteractive(key) {\n",
              "        const element = document.querySelector('#df-8e58f337-7841-4042-a011-c7e79081d1cc');\n",
              "        const dataTable =\n",
              "          await google.colab.kernel.invokeFunction('convertToInteractive',\n",
              "                                                    [key], {});\n",
              "        if (!dataTable) return;\n",
              "\n",
              "        const docLinkHtml = 'Like what you see? Visit the ' +\n",
              "          '<a target=\"_blank\" href=https://colab.research.google.com/notebooks/data_table.ipynb>data table notebook</a>'\n",
              "          + ' to learn more about interactive tables.';\n",
              "        element.innerHTML = '';\n",
              "        dataTable['output_type'] = 'display_data';\n",
              "        await google.colab.output.renderOutput(dataTable, element);\n",
              "        const docLink = document.createElement('div');\n",
              "        docLink.innerHTML = docLinkHtml;\n",
              "        element.appendChild(docLink);\n",
              "      }\n",
              "    </script>\n",
              "  </div>\n",
              "\n",
              "\n",
              "<div id=\"df-2c9d19be-5012-4537-9620-537e1529f50e\">\n",
              "  <button class=\"colab-df-quickchart\" onclick=\"quickchart('df-2c9d19be-5012-4537-9620-537e1529f50e')\"\n",
              "            title=\"Suggest charts\"\n",
              "            style=\"display:none;\">\n",
              "\n",
              "<svg xmlns=\"http://www.w3.org/2000/svg\" height=\"24px\"viewBox=\"0 0 24 24\"\n",
              "     width=\"24px\">\n",
              "    <g>\n",
              "        <path d=\"M19 3H5c-1.1 0-2 .9-2 2v14c0 1.1.9 2 2 2h14c1.1 0 2-.9 2-2V5c0-1.1-.9-2-2-2zM9 17H7v-7h2v7zm4 0h-2V7h2v10zm4 0h-2v-4h2v4z\"/>\n",
              "    </g>\n",
              "</svg>\n",
              "  </button>\n",
              "\n",
              "<style>\n",
              "  .colab-df-quickchart {\n",
              "      --bg-color: #E8F0FE;\n",
              "      --fill-color: #1967D2;\n",
              "      --hover-bg-color: #E2EBFA;\n",
              "      --hover-fill-color: #174EA6;\n",
              "      --disabled-fill-color: #AAA;\n",
              "      --disabled-bg-color: #DDD;\n",
              "  }\n",
              "\n",
              "  [theme=dark] .colab-df-quickchart {\n",
              "      --bg-color: #3B4455;\n",
              "      --fill-color: #D2E3FC;\n",
              "      --hover-bg-color: #434B5C;\n",
              "      --hover-fill-color: #FFFFFF;\n",
              "      --disabled-bg-color: #3B4455;\n",
              "      --disabled-fill-color: #666;\n",
              "  }\n",
              "\n",
              "  .colab-df-quickchart {\n",
              "    background-color: var(--bg-color);\n",
              "    border: none;\n",
              "    border-radius: 50%;\n",
              "    cursor: pointer;\n",
              "    display: none;\n",
              "    fill: var(--fill-color);\n",
              "    height: 32px;\n",
              "    padding: 0;\n",
              "    width: 32px;\n",
              "  }\n",
              "\n",
              "  .colab-df-quickchart:hover {\n",
              "    background-color: var(--hover-bg-color);\n",
              "    box-shadow: 0 1px 2px rgba(60, 64, 67, 0.3), 0 1px 3px 1px rgba(60, 64, 67, 0.15);\n",
              "    fill: var(--button-hover-fill-color);\n",
              "  }\n",
              "\n",
              "  .colab-df-quickchart-complete:disabled,\n",
              "  .colab-df-quickchart-complete:disabled:hover {\n",
              "    background-color: var(--disabled-bg-color);\n",
              "    fill: var(--disabled-fill-color);\n",
              "    box-shadow: none;\n",
              "  }\n",
              "\n",
              "  .colab-df-spinner {\n",
              "    border: 2px solid var(--fill-color);\n",
              "    border-color: transparent;\n",
              "    border-bottom-color: var(--fill-color);\n",
              "    animation:\n",
              "      spin 1s steps(1) infinite;\n",
              "  }\n",
              "\n",
              "  @keyframes spin {\n",
              "    0% {\n",
              "      border-color: transparent;\n",
              "      border-bottom-color: var(--fill-color);\n",
              "      border-left-color: var(--fill-color);\n",
              "    }\n",
              "    20% {\n",
              "      border-color: transparent;\n",
              "      border-left-color: var(--fill-color);\n",
              "      border-top-color: var(--fill-color);\n",
              "    }\n",
              "    30% {\n",
              "      border-color: transparent;\n",
              "      border-left-color: var(--fill-color);\n",
              "      border-top-color: var(--fill-color);\n",
              "      border-right-color: var(--fill-color);\n",
              "    }\n",
              "    40% {\n",
              "      border-color: transparent;\n",
              "      border-right-color: var(--fill-color);\n",
              "      border-top-color: var(--fill-color);\n",
              "    }\n",
              "    60% {\n",
              "      border-color: transparent;\n",
              "      border-right-color: var(--fill-color);\n",
              "    }\n",
              "    80% {\n",
              "      border-color: transparent;\n",
              "      border-right-color: var(--fill-color);\n",
              "      border-bottom-color: var(--fill-color);\n",
              "    }\n",
              "    90% {\n",
              "      border-color: transparent;\n",
              "      border-bottom-color: var(--fill-color);\n",
              "    }\n",
              "  }\n",
              "</style>\n",
              "\n",
              "  <script>\n",
              "    async function quickchart(key) {\n",
              "      const quickchartButtonEl =\n",
              "        document.querySelector('#' + key + ' button');\n",
              "      quickchartButtonEl.disabled = true;  // To prevent multiple clicks.\n",
              "      quickchartButtonEl.classList.add('colab-df-spinner');\n",
              "      try {\n",
              "        const charts = await google.colab.kernel.invokeFunction(\n",
              "            'suggestCharts', [key], {});\n",
              "      } catch (error) {\n",
              "        console.error('Error during call to suggestCharts:', error);\n",
              "      }\n",
              "      quickchartButtonEl.classList.remove('colab-df-spinner');\n",
              "      quickchartButtonEl.classList.add('colab-df-quickchart-complete');\n",
              "    }\n",
              "    (() => {\n",
              "      let quickchartButtonEl =\n",
              "        document.querySelector('#df-2c9d19be-5012-4537-9620-537e1529f50e button');\n",
              "      quickchartButtonEl.style.display =\n",
              "        google.colab.kernel.accessAllowed ? 'block' : 'none';\n",
              "    })();\n",
              "  </script>\n",
              "</div>\n",
              "\n",
              "    </div>\n",
              "  </div>\n"
            ],
            "application/vnd.google.colaboratory.intrinsic+json": {
              "type": "dataframe",
              "summary": "{\n  \"name\": \"pd\",\n  \"rows\": 100,\n  \"fields\": [\n    {\n      \"column\": \"recording\",\n      \"properties\": {\n        \"dtype\": \"string\",\n        \"num_unique_values\": 100,\n        \"samples\": [\n          \"recording_78.mp3\",\n          \"recording_50.mp3\",\n          \"recording_72.mp3\"\n        ],\n        \"semantic_type\": \"\",\n        \"description\": \"\"\n      }\n    },\n    {\n      \"column\": \"Fraud_instances\",\n      \"properties\": {\n        \"dtype\": \"number\",\n        \"std\": 4,\n        \"min\": 0,\n        \"max\": 20,\n        \"num_unique_values\": 16,\n        \"samples\": [\n          0,\n          5,\n          20\n        ],\n        \"semantic_type\": \"\",\n        \"description\": \"\"\n      }\n    }\n  ]\n}"
            }
          },
          "metadata": {},
          "execution_count": 8
        }
      ]
    },
    {
      "cell_type": "code",
      "source": [
        "from pyspark.sql import SparkSession"
      ],
      "metadata": {
        "id": "DIdugUiJyO3T"
      },
      "execution_count": null,
      "outputs": []
    },
    {
      "cell_type": "code",
      "source": [
        "spark = SparkSession.builder.appName('Practice').getOrCreate()"
      ],
      "metadata": {
        "id": "TTo77PJTzesd"
      },
      "execution_count": null,
      "outputs": []
    },
    {
      "cell_type": "code",
      "source": [
        "spark"
      ],
      "metadata": {
        "colab": {
          "base_uri": "https://localhost:8080/",
          "height": 219
        },
        "id": "8Aow-0t-zr3H",
        "outputId": "920dd73c-9aa2-4720-fd20-bcb7679fba86"
      },
      "execution_count": null,
      "outputs": [
        {
          "output_type": "execute_result",
          "data": {
            "text/plain": [
              "<pyspark.sql.session.SparkSession at 0x7cb634c09a80>"
            ],
            "text/html": [
              "\n",
              "            <div>\n",
              "                <p><b>SparkSession - in-memory</b></p>\n",
              "                \n",
              "        <div>\n",
              "            <p><b>SparkContext</b></p>\n",
              "\n",
              "            <p><a href=\"http://5a56f5578f0a:4040\">Spark UI</a></p>\n",
              "\n",
              "            <dl>\n",
              "              <dt>Version</dt>\n",
              "                <dd><code>v3.5.1</code></dd>\n",
              "              <dt>Master</dt>\n",
              "                <dd><code>local[*]</code></dd>\n",
              "              <dt>AppName</dt>\n",
              "                <dd><code>Practice</code></dd>\n",
              "            </dl>\n",
              "        </div>\n",
              "        \n",
              "            </div>\n",
              "        "
            ]
          },
          "metadata": {},
          "execution_count": 11
        }
      ]
    },
    {
      "cell_type": "code",
      "source": [
        "df_pyspark = spark.read.csv('/content/drive/MyDrive/results.csv')"
      ],
      "metadata": {
        "id": "eFKtw6kRzyIk"
      },
      "execution_count": null,
      "outputs": []
    },
    {
      "cell_type": "code",
      "source": [
        "df_pyspark.show()"
      ],
      "metadata": {
        "colab": {
          "base_uri": "https://localhost:8080/"
        },
        "id": "PrrZjNx70RF7",
        "outputId": "cec90573-d643-4dbb-b0bf-52b61638ae44"
      },
      "execution_count": null,
      "outputs": [
        {
          "output_type": "stream",
          "name": "stdout",
          "text": [
            "+----------------+---------------+\n",
            "|             _c0|            _c1|\n",
            "+----------------+---------------+\n",
            "|       recording|Fraud_instances|\n",
            "|recording_01.mp3|              0|\n",
            "|recording_02.mp3|              0|\n",
            "|recording_03.mp3|              0|\n",
            "|recording_00.mp3|              5|\n",
            "|recording_09.mp3|              0|\n",
            "|recording_04.mp3|              4|\n",
            "|recording_11.mp3|              3|\n",
            "|recording_18.mp3|              3|\n",
            "|recording_14.mp3|              0|\n",
            "|recording_13.mp3|              0|\n",
            "|recording_06.mp3|              5|\n",
            "|recording_16.mp3|              5|\n",
            "|recording_17.mp3|              3|\n",
            "|recording_19.mp3|              0|\n",
            "|recording_12.mp3|              1|\n",
            "|recording_05.mp3|              0|\n",
            "|recording_10.mp3|              5|\n",
            "|recording_08.mp3|             20|\n",
            "|recording_15.mp3|              2|\n",
            "+----------------+---------------+\n",
            "only showing top 20 rows\n",
            "\n"
          ]
        }
      ]
    },
    {
      "cell_type": "code",
      "source": [
        "spark.read.option('header', 'true').csv('/content/drive/MyDrive/results.csv').show()"
      ],
      "metadata": {
        "colab": {
          "base_uri": "https://localhost:8080/"
        },
        "id": "w9BRb_LA0ToC",
        "outputId": "ac58910a-6389-46f7-f7d4-29e675e1b9dd"
      },
      "execution_count": null,
      "outputs": [
        {
          "output_type": "stream",
          "name": "stdout",
          "text": [
            "+----------------+---------------+\n",
            "|       recording|Fraud_instances|\n",
            "+----------------+---------------+\n",
            "|recording_01.mp3|              0|\n",
            "|recording_02.mp3|              0|\n",
            "|recording_03.mp3|              0|\n",
            "|recording_00.mp3|              5|\n",
            "|recording_09.mp3|              0|\n",
            "|recording_04.mp3|              4|\n",
            "|recording_11.mp3|              3|\n",
            "|recording_18.mp3|              3|\n",
            "|recording_14.mp3|              0|\n",
            "|recording_13.mp3|              0|\n",
            "|recording_06.mp3|              5|\n",
            "|recording_16.mp3|              5|\n",
            "|recording_17.mp3|              3|\n",
            "|recording_19.mp3|              0|\n",
            "|recording_12.mp3|              1|\n",
            "|recording_05.mp3|              0|\n",
            "|recording_10.mp3|              5|\n",
            "|recording_08.mp3|             20|\n",
            "|recording_15.mp3|              2|\n",
            "|recording_07.mp3|              2|\n",
            "+----------------+---------------+\n",
            "only showing top 20 rows\n",
            "\n"
          ]
        }
      ]
    },
    {
      "cell_type": "code",
      "source": [
        "type(df_pyspark)"
      ],
      "metadata": {
        "colab": {
          "base_uri": "https://localhost:8080/",
          "height": 186
        },
        "id": "j91KVUGH0oQG",
        "outputId": "7e850c35-f6fb-4136-f9fb-c528a68768ee"
      },
      "execution_count": null,
      "outputs": [
        {
          "output_type": "execute_result",
          "data": {
            "text/plain": [
              "pyspark.sql.dataframe.DataFrame"
            ],
            "text/html": [
              "<div style=\"max-width:800px; border: 1px solid var(--colab-border-color);\"><style>\n",
              "      pre.function-repr-contents {\n",
              "        overflow-x: auto;\n",
              "        padding: 8px 12px;\n",
              "        max-height: 500px;\n",
              "      }\n",
              "\n",
              "      pre.function-repr-contents.function-repr-contents-collapsed {\n",
              "        cursor: pointer;\n",
              "        max-height: 100px;\n",
              "      }\n",
              "    </style>\n",
              "    <pre style=\"white-space: initial; background:\n",
              "         var(--colab-secondary-surface-color); padding: 8px 12px;\n",
              "         border-bottom: 1px solid var(--colab-border-color);\"><b>pyspark.sql.dataframe.DataFrame</b><br/>def __init__(jdf: JavaObject, sql_ctx: Union[&#x27;SQLContext&#x27;, &#x27;SparkSession&#x27;])</pre><pre class=\"function-repr-contents function-repr-contents-collapsed\" style=\"\"><a class=\"filepath\" style=\"display:none\" href=\"#\">/usr/local/lib/python3.10/dist-packages/pyspark/sql/dataframe.py</a>A distributed collection of data grouped into named columns.\n",
              "\n",
              ".. versionadded:: 1.3.0\n",
              "\n",
              ".. versionchanged:: 3.4.0\n",
              "    Supports Spark Connect.\n",
              "\n",
              "Examples\n",
              "--------\n",
              "A :class:`DataFrame` is equivalent to a relational table in Spark SQL,\n",
              "and can be created using various functions in :class:`SparkSession`:\n",
              "\n",
              "&gt;&gt;&gt; people = spark.createDataFrame([\n",
              "...     {&quot;deptId&quot;: 1, &quot;age&quot;: 40, &quot;name&quot;: &quot;Hyukjin Kwon&quot;, &quot;gender&quot;: &quot;M&quot;, &quot;salary&quot;: 50},\n",
              "...     {&quot;deptId&quot;: 1, &quot;age&quot;: 50, &quot;name&quot;: &quot;Takuya Ueshin&quot;, &quot;gender&quot;: &quot;M&quot;, &quot;salary&quot;: 100},\n",
              "...     {&quot;deptId&quot;: 2, &quot;age&quot;: 60, &quot;name&quot;: &quot;Xinrong Meng&quot;, &quot;gender&quot;: &quot;F&quot;, &quot;salary&quot;: 150},\n",
              "...     {&quot;deptId&quot;: 3, &quot;age&quot;: 20, &quot;name&quot;: &quot;Haejoon Lee&quot;, &quot;gender&quot;: &quot;M&quot;, &quot;salary&quot;: 200}\n",
              "... ])\n",
              "\n",
              "Once created, it can be manipulated using the various domain-specific-language\n",
              "(DSL) functions defined in: :class:`DataFrame`, :class:`Column`.\n",
              "\n",
              "To select a column from the :class:`DataFrame`, use the apply method:\n",
              "\n",
              "&gt;&gt;&gt; age_col = people.age\n",
              "\n",
              "A more concrete example:\n",
              "\n",
              "&gt;&gt;&gt; # To create DataFrame using SparkSession\n",
              "... department = spark.createDataFrame([\n",
              "...     {&quot;id&quot;: 1, &quot;name&quot;: &quot;PySpark&quot;},\n",
              "...     {&quot;id&quot;: 2, &quot;name&quot;: &quot;ML&quot;},\n",
              "...     {&quot;id&quot;: 3, &quot;name&quot;: &quot;Spark SQL&quot;}\n",
              "... ])\n",
              "\n",
              "&gt;&gt;&gt; people.filter(people.age &gt; 30).join(\n",
              "...     department, people.deptId == department.id).groupBy(\n",
              "...     department.name, &quot;gender&quot;).agg({&quot;salary&quot;: &quot;avg&quot;, &quot;age&quot;: &quot;max&quot;}).show()\n",
              "+-------+------+-----------+--------+\n",
              "|   name|gender|avg(salary)|max(age)|\n",
              "+-------+------+-----------+--------+\n",
              "|     ML|     F|      150.0|      60|\n",
              "|PySpark|     M|       75.0|      50|\n",
              "+-------+------+-----------+--------+\n",
              "\n",
              "Notes\n",
              "-----\n",
              "A DataFrame should only be created as described above. It should not be directly\n",
              "created via using the constructor.</pre>\n",
              "      <script>\n",
              "      if (google.colab.kernel.accessAllowed && google.colab.files && google.colab.files.view) {\n",
              "        for (const element of document.querySelectorAll('.filepath')) {\n",
              "          element.style.display = 'block'\n",
              "          element.onclick = (event) => {\n",
              "            event.preventDefault();\n",
              "            event.stopPropagation();\n",
              "            google.colab.files.view(element.textContent, 80);\n",
              "          };\n",
              "        }\n",
              "      }\n",
              "      for (const element of document.querySelectorAll('.function-repr-contents')) {\n",
              "        element.onclick = (event) => {\n",
              "          event.preventDefault();\n",
              "          event.stopPropagation();\n",
              "          element.classList.toggle('function-repr-contents-collapsed');\n",
              "        };\n",
              "      }\n",
              "      </script>\n",
              "      </div>"
            ]
          },
          "metadata": {},
          "execution_count": 18
        }
      ]
    },
    {
      "cell_type": "code",
      "source": [
        "df_pyspark.printSchema()"
      ],
      "metadata": {
        "colab": {
          "base_uri": "https://localhost:8080/"
        },
        "id": "wwauwyKc1kGT",
        "outputId": "a8208fa2-1475-45a8-c80e-1c495050dd4b"
      },
      "execution_count": null,
      "outputs": [
        {
          "output_type": "stream",
          "name": "stdout",
          "text": [
            "root\n",
            " |-- _c0: string (nullable = true)\n",
            " |-- _c1: string (nullable = true)\n",
            "\n"
          ]
        }
      ]
    },
    {
      "cell_type": "markdown",
      "source": [
        "## Pyspark DataFrames - Part 1"
      ],
      "metadata": {
        "id": "BFwEoxT42aZe"
      }
    },
    {
      "cell_type": "markdown",
      "source": [
        "### Building a pyspark session"
      ],
      "metadata": {
        "id": "9nvxDaYu2yea"
      }
    },
    {
      "cell_type": "code",
      "source": [
        "from pyspark.sql import SparkSession"
      ],
      "metadata": {
        "id": "0_MRXawz1wEh"
      },
      "execution_count": null,
      "outputs": []
    },
    {
      "cell_type": "code",
      "source": [
        "spark = SparkSession.builder.appName('Dataframe').getOrCreate()"
      ],
      "metadata": {
        "id": "hll2_XUv3CBm"
      },
      "execution_count": null,
      "outputs": []
    },
    {
      "cell_type": "code",
      "source": [
        "spark.read.option('header', 'true').csv('/content/drive/MyDrive/results.csv').show()"
      ],
      "metadata": {
        "colab": {
          "base_uri": "https://localhost:8080/"
        },
        "id": "zgLfOWV93HVG",
        "outputId": "42645cb9-9130-44ad-bb9e-78348f51d81c"
      },
      "execution_count": null,
      "outputs": [
        {
          "output_type": "stream",
          "name": "stdout",
          "text": [
            "+----------------+---------------+\n",
            "|       recording|Fraud_instances|\n",
            "+----------------+---------------+\n",
            "|recording_01.mp3|              0|\n",
            "|recording_02.mp3|              0|\n",
            "|recording_03.mp3|              0|\n",
            "|recording_00.mp3|              5|\n",
            "|recording_09.mp3|              0|\n",
            "|recording_04.mp3|              4|\n",
            "|recording_11.mp3|              3|\n",
            "|recording_18.mp3|              3|\n",
            "|recording_14.mp3|              0|\n",
            "|recording_13.mp3|              0|\n",
            "|recording_06.mp3|              5|\n",
            "|recording_16.mp3|              5|\n",
            "|recording_17.mp3|              3|\n",
            "|recording_19.mp3|              0|\n",
            "|recording_12.mp3|              1|\n",
            "|recording_05.mp3|              0|\n",
            "|recording_10.mp3|              5|\n",
            "|recording_08.mp3|             20|\n",
            "|recording_15.mp3|              2|\n",
            "|recording_07.mp3|              2|\n",
            "+----------------+---------------+\n",
            "only showing top 20 rows\n",
            "\n"
          ]
        }
      ]
    },
    {
      "cell_type": "code",
      "source": [
        "df_pyspark = spark.read.option('header', 'true').csv('/content/drive/MyDrive/results.csv', inferSchema=True)"
      ],
      "metadata": {
        "id": "RQSND1fr4Its"
      },
      "execution_count": null,
      "outputs": []
    },
    {
      "cell_type": "code",
      "source": [
        "type(df_pyspark)"
      ],
      "metadata": {
        "colab": {
          "base_uri": "https://localhost:8080/",
          "height": 186
        },
        "id": "TvJb3MAf3Yqm",
        "outputId": "7d1205e6-9658-464e-c88b-a92532009b2e"
      },
      "execution_count": null,
      "outputs": [
        {
          "output_type": "execute_result",
          "data": {
            "text/plain": [
              "pyspark.sql.dataframe.DataFrame"
            ],
            "text/html": [
              "<div style=\"max-width:800px; border: 1px solid var(--colab-border-color);\"><style>\n",
              "      pre.function-repr-contents {\n",
              "        overflow-x: auto;\n",
              "        padding: 8px 12px;\n",
              "        max-height: 500px;\n",
              "      }\n",
              "\n",
              "      pre.function-repr-contents.function-repr-contents-collapsed {\n",
              "        cursor: pointer;\n",
              "        max-height: 100px;\n",
              "      }\n",
              "    </style>\n",
              "    <pre style=\"white-space: initial; background:\n",
              "         var(--colab-secondary-surface-color); padding: 8px 12px;\n",
              "         border-bottom: 1px solid var(--colab-border-color);\"><b>pyspark.sql.dataframe.DataFrame</b><br/>def __init__(jdf: JavaObject, sql_ctx: Union[&#x27;SQLContext&#x27;, &#x27;SparkSession&#x27;])</pre><pre class=\"function-repr-contents function-repr-contents-collapsed\" style=\"\"><a class=\"filepath\" style=\"display:none\" href=\"#\">/usr/local/lib/python3.10/dist-packages/pyspark/sql/dataframe.py</a>A distributed collection of data grouped into named columns.\n",
              "\n",
              ".. versionadded:: 1.3.0\n",
              "\n",
              ".. versionchanged:: 3.4.0\n",
              "    Supports Spark Connect.\n",
              "\n",
              "Examples\n",
              "--------\n",
              "A :class:`DataFrame` is equivalent to a relational table in Spark SQL,\n",
              "and can be created using various functions in :class:`SparkSession`:\n",
              "\n",
              "&gt;&gt;&gt; people = spark.createDataFrame([\n",
              "...     {&quot;deptId&quot;: 1, &quot;age&quot;: 40, &quot;name&quot;: &quot;Hyukjin Kwon&quot;, &quot;gender&quot;: &quot;M&quot;, &quot;salary&quot;: 50},\n",
              "...     {&quot;deptId&quot;: 1, &quot;age&quot;: 50, &quot;name&quot;: &quot;Takuya Ueshin&quot;, &quot;gender&quot;: &quot;M&quot;, &quot;salary&quot;: 100},\n",
              "...     {&quot;deptId&quot;: 2, &quot;age&quot;: 60, &quot;name&quot;: &quot;Xinrong Meng&quot;, &quot;gender&quot;: &quot;F&quot;, &quot;salary&quot;: 150},\n",
              "...     {&quot;deptId&quot;: 3, &quot;age&quot;: 20, &quot;name&quot;: &quot;Haejoon Lee&quot;, &quot;gender&quot;: &quot;M&quot;, &quot;salary&quot;: 200}\n",
              "... ])\n",
              "\n",
              "Once created, it can be manipulated using the various domain-specific-language\n",
              "(DSL) functions defined in: :class:`DataFrame`, :class:`Column`.\n",
              "\n",
              "To select a column from the :class:`DataFrame`, use the apply method:\n",
              "\n",
              "&gt;&gt;&gt; age_col = people.age\n",
              "\n",
              "A more concrete example:\n",
              "\n",
              "&gt;&gt;&gt; # To create DataFrame using SparkSession\n",
              "... department = spark.createDataFrame([\n",
              "...     {&quot;id&quot;: 1, &quot;name&quot;: &quot;PySpark&quot;},\n",
              "...     {&quot;id&quot;: 2, &quot;name&quot;: &quot;ML&quot;},\n",
              "...     {&quot;id&quot;: 3, &quot;name&quot;: &quot;Spark SQL&quot;}\n",
              "... ])\n",
              "\n",
              "&gt;&gt;&gt; people.filter(people.age &gt; 30).join(\n",
              "...     department, people.deptId == department.id).groupBy(\n",
              "...     department.name, &quot;gender&quot;).agg({&quot;salary&quot;: &quot;avg&quot;, &quot;age&quot;: &quot;max&quot;}).show()\n",
              "+-------+------+-----------+--------+\n",
              "|   name|gender|avg(salary)|max(age)|\n",
              "+-------+------+-----------+--------+\n",
              "|     ML|     F|      150.0|      60|\n",
              "|PySpark|     M|       75.0|      50|\n",
              "+-------+------+-----------+--------+\n",
              "\n",
              "Notes\n",
              "-----\n",
              "A DataFrame should only be created as described above. It should not be directly\n",
              "created via using the constructor.</pre>\n",
              "      <script>\n",
              "      if (google.colab.kernel.accessAllowed && google.colab.files && google.colab.files.view) {\n",
              "        for (const element of document.querySelectorAll('.filepath')) {\n",
              "          element.style.display = 'block'\n",
              "          element.onclick = (event) => {\n",
              "            event.preventDefault();\n",
              "            event.stopPropagation();\n",
              "            google.colab.files.view(element.textContent, 80);\n",
              "          };\n",
              "        }\n",
              "      }\n",
              "      for (const element of document.querySelectorAll('.function-repr-contents')) {\n",
              "        element.onclick = (event) => {\n",
              "          event.preventDefault();\n",
              "          event.stopPropagation();\n",
              "          element.classList.toggle('function-repr-contents-collapsed');\n",
              "        };\n",
              "      }\n",
              "      </script>\n",
              "      </div>"
            ]
          },
          "metadata": {},
          "execution_count": 82
        }
      ]
    },
    {
      "cell_type": "code",
      "source": [
        "df_pyspark.printSchema()"
      ],
      "metadata": {
        "colab": {
          "base_uri": "https://localhost:8080/"
        },
        "id": "wh8phCjl3sNb",
        "outputId": "99cef2a0-b1c7-4698-d4ee-5ac288b76a73"
      },
      "execution_count": null,
      "outputs": [
        {
          "output_type": "stream",
          "name": "stdout",
          "text": [
            "root\n",
            " |-- recording: string (nullable = true)\n",
            " |-- Fraud_instances: integer (nullable = true)\n",
            "\n"
          ]
        }
      ]
    },
    {
      "cell_type": "code",
      "source": [
        "df_pyspark=spark.read.csv('results.csv',header=True,inferSchema=True)\n",
        "df_pyspark.show()"
      ],
      "metadata": {
        "colab": {
          "base_uri": "https://localhost:8080/"
        },
        "id": "SLQgGRK_4eeI",
        "outputId": "1674ba03-9cea-4064-a7af-cb1bb7766474"
      },
      "execution_count": null,
      "outputs": [
        {
          "output_type": "stream",
          "name": "stdout",
          "text": [
            "+----------------+---------------+\n",
            "|       recording|Fraud_instances|\n",
            "+----------------+---------------+\n",
            "|recording_01.mp3|              0|\n",
            "|recording_02.mp3|              0|\n",
            "|recording_03.mp3|              0|\n",
            "|recording_00.mp3|              5|\n",
            "|recording_09.mp3|              0|\n",
            "|recording_04.mp3|              4|\n",
            "|recording_11.mp3|              3|\n",
            "|recording_18.mp3|              3|\n",
            "|recording_14.mp3|              0|\n",
            "|recording_13.mp3|              0|\n",
            "|recording_06.mp3|              5|\n",
            "|recording_16.mp3|              5|\n",
            "|recording_17.mp3|              3|\n",
            "|recording_19.mp3|              0|\n",
            "|recording_12.mp3|              1|\n",
            "|recording_05.mp3|              0|\n",
            "|recording_10.mp3|              5|\n",
            "|recording_08.mp3|             20|\n",
            "|recording_15.mp3|              2|\n",
            "|recording_07.mp3|              2|\n",
            "+----------------+---------------+\n",
            "only showing top 20 rows\n",
            "\n"
          ]
        }
      ]
    },
    {
      "cell_type": "code",
      "source": [
        "df_pyspark.printSchema()"
      ],
      "metadata": {
        "colab": {
          "base_uri": "https://localhost:8080/"
        },
        "id": "-vc2Kyv_5KOF",
        "outputId": "ad632ad5-4371-48e7-8a7c-d7d73d43d2e5"
      },
      "execution_count": null,
      "outputs": [
        {
          "output_type": "stream",
          "name": "stdout",
          "text": [
            "root\n",
            " |-- recording: string (nullable = true)\n",
            " |-- Fraud_instances: integer (nullable = true)\n",
            "\n"
          ]
        }
      ]
    },
    {
      "cell_type": "code",
      "source": [
        "type(df_pyspark)"
      ],
      "metadata": {
        "colab": {
          "base_uri": "https://localhost:8080/",
          "height": 186
        },
        "id": "XEJMVuEu5a0H",
        "outputId": "9fd84d53-d329-47b9-ccb8-fb56027e8524"
      },
      "execution_count": null,
      "outputs": [
        {
          "output_type": "execute_result",
          "data": {
            "text/plain": [
              "pyspark.sql.dataframe.DataFrame"
            ],
            "text/html": [
              "<div style=\"max-width:800px; border: 1px solid var(--colab-border-color);\"><style>\n",
              "      pre.function-repr-contents {\n",
              "        overflow-x: auto;\n",
              "        padding: 8px 12px;\n",
              "        max-height: 500px;\n",
              "      }\n",
              "\n",
              "      pre.function-repr-contents.function-repr-contents-collapsed {\n",
              "        cursor: pointer;\n",
              "        max-height: 100px;\n",
              "      }\n",
              "    </style>\n",
              "    <pre style=\"white-space: initial; background:\n",
              "         var(--colab-secondary-surface-color); padding: 8px 12px;\n",
              "         border-bottom: 1px solid var(--colab-border-color);\"><b>pyspark.sql.dataframe.DataFrame</b><br/>def __init__(jdf: JavaObject, sql_ctx: Union[&#x27;SQLContext&#x27;, &#x27;SparkSession&#x27;])</pre><pre class=\"function-repr-contents function-repr-contents-collapsed\" style=\"\"><a class=\"filepath\" style=\"display:none\" href=\"#\">/usr/local/lib/python3.10/dist-packages/pyspark/sql/dataframe.py</a>A distributed collection of data grouped into named columns.\n",
              "\n",
              ".. versionadded:: 1.3.0\n",
              "\n",
              ".. versionchanged:: 3.4.0\n",
              "    Supports Spark Connect.\n",
              "\n",
              "Examples\n",
              "--------\n",
              "A :class:`DataFrame` is equivalent to a relational table in Spark SQL,\n",
              "and can be created using various functions in :class:`SparkSession`:\n",
              "\n",
              "&gt;&gt;&gt; people = spark.createDataFrame([\n",
              "...     {&quot;deptId&quot;: 1, &quot;age&quot;: 40, &quot;name&quot;: &quot;Hyukjin Kwon&quot;, &quot;gender&quot;: &quot;M&quot;, &quot;salary&quot;: 50},\n",
              "...     {&quot;deptId&quot;: 1, &quot;age&quot;: 50, &quot;name&quot;: &quot;Takuya Ueshin&quot;, &quot;gender&quot;: &quot;M&quot;, &quot;salary&quot;: 100},\n",
              "...     {&quot;deptId&quot;: 2, &quot;age&quot;: 60, &quot;name&quot;: &quot;Xinrong Meng&quot;, &quot;gender&quot;: &quot;F&quot;, &quot;salary&quot;: 150},\n",
              "...     {&quot;deptId&quot;: 3, &quot;age&quot;: 20, &quot;name&quot;: &quot;Haejoon Lee&quot;, &quot;gender&quot;: &quot;M&quot;, &quot;salary&quot;: 200}\n",
              "... ])\n",
              "\n",
              "Once created, it can be manipulated using the various domain-specific-language\n",
              "(DSL) functions defined in: :class:`DataFrame`, :class:`Column`.\n",
              "\n",
              "To select a column from the :class:`DataFrame`, use the apply method:\n",
              "\n",
              "&gt;&gt;&gt; age_col = people.age\n",
              "\n",
              "A more concrete example:\n",
              "\n",
              "&gt;&gt;&gt; # To create DataFrame using SparkSession\n",
              "... department = spark.createDataFrame([\n",
              "...     {&quot;id&quot;: 1, &quot;name&quot;: &quot;PySpark&quot;},\n",
              "...     {&quot;id&quot;: 2, &quot;name&quot;: &quot;ML&quot;},\n",
              "...     {&quot;id&quot;: 3, &quot;name&quot;: &quot;Spark SQL&quot;}\n",
              "... ])\n",
              "\n",
              "&gt;&gt;&gt; people.filter(people.age &gt; 30).join(\n",
              "...     department, people.deptId == department.id).groupBy(\n",
              "...     department.name, &quot;gender&quot;).agg({&quot;salary&quot;: &quot;avg&quot;, &quot;age&quot;: &quot;max&quot;}).show()\n",
              "+-------+------+-----------+--------+\n",
              "|   name|gender|avg(salary)|max(age)|\n",
              "+-------+------+-----------+--------+\n",
              "|     ML|     F|      150.0|      60|\n",
              "|PySpark|     M|       75.0|      50|\n",
              "+-------+------+-----------+--------+\n",
              "\n",
              "Notes\n",
              "-----\n",
              "A DataFrame should only be created as described above. It should not be directly\n",
              "created via using the constructor.</pre>\n",
              "      <script>\n",
              "      if (google.colab.kernel.accessAllowed && google.colab.files && google.colab.files.view) {\n",
              "        for (const element of document.querySelectorAll('.filepath')) {\n",
              "          element.style.display = 'block'\n",
              "          element.onclick = (event) => {\n",
              "            event.preventDefault();\n",
              "            event.stopPropagation();\n",
              "            google.colab.files.view(element.textContent, 80);\n",
              "          };\n",
              "        }\n",
              "      }\n",
              "      for (const element of document.querySelectorAll('.function-repr-contents')) {\n",
              "        element.onclick = (event) => {\n",
              "          event.preventDefault();\n",
              "          event.stopPropagation();\n",
              "          element.classList.toggle('function-repr-contents-collapsed');\n",
              "        };\n",
              "      }\n",
              "      </script>\n",
              "      </div>"
            ]
          },
          "metadata": {},
          "execution_count": 86
        }
      ]
    },
    {
      "cell_type": "code",
      "source": [
        "df_pyspark.head(5)"
      ],
      "metadata": {
        "colab": {
          "base_uri": "https://localhost:8080/"
        },
        "id": "qw05RWLP5eDk",
        "outputId": "26f3bfe0-5ae0-434b-b030-d5abb506789a"
      },
      "execution_count": null,
      "outputs": [
        {
          "output_type": "execute_result",
          "data": {
            "text/plain": [
              "[Row(recording='recording_01.mp3', Fraud_instances=0),\n",
              " Row(recording='recording_02.mp3', Fraud_instances=0),\n",
              " Row(recording='recording_03.mp3', Fraud_instances=0),\n",
              " Row(recording='recording_00.mp3', Fraud_instances=5),\n",
              " Row(recording='recording_09.mp3', Fraud_instances=0)]"
            ]
          },
          "metadata": {},
          "execution_count": 87
        }
      ]
    },
    {
      "cell_type": "code",
      "source": [
        "df_pyspark.select('recording', 'Fraud_instances').show()"
      ],
      "metadata": {
        "colab": {
          "base_uri": "https://localhost:8080/"
        },
        "id": "VT3rKedC5mra",
        "outputId": "53998c84-07f0-4fdc-95b5-f8a8a51a4afb"
      },
      "execution_count": null,
      "outputs": [
        {
          "output_type": "stream",
          "name": "stdout",
          "text": [
            "+----------------+---------------+\n",
            "|       recording|Fraud_instances|\n",
            "+----------------+---------------+\n",
            "|recording_01.mp3|              0|\n",
            "|recording_02.mp3|              0|\n",
            "|recording_03.mp3|              0|\n",
            "|recording_00.mp3|              5|\n",
            "|recording_09.mp3|              0|\n",
            "|recording_04.mp3|              4|\n",
            "|recording_11.mp3|              3|\n",
            "|recording_18.mp3|              3|\n",
            "|recording_14.mp3|              0|\n",
            "|recording_13.mp3|              0|\n",
            "|recording_06.mp3|              5|\n",
            "|recording_16.mp3|              5|\n",
            "|recording_17.mp3|              3|\n",
            "|recording_19.mp3|              0|\n",
            "|recording_12.mp3|              1|\n",
            "|recording_05.mp3|              0|\n",
            "|recording_10.mp3|              5|\n",
            "|recording_08.mp3|             20|\n",
            "|recording_15.mp3|              2|\n",
            "|recording_07.mp3|              2|\n",
            "+----------------+---------------+\n",
            "only showing top 20 rows\n",
            "\n"
          ]
        }
      ]
    },
    {
      "cell_type": "code",
      "source": [
        "df_pyspark.dtypes"
      ],
      "metadata": {
        "colab": {
          "base_uri": "https://localhost:8080/"
        },
        "id": "i-_3isl6530J",
        "outputId": "5ba89622-f272-4115-8fbb-a1ac0d41d673"
      },
      "execution_count": null,
      "outputs": [
        {
          "output_type": "execute_result",
          "data": {
            "text/plain": [
              "[('recording', 'string'), ('Fraud_instances', 'int')]"
            ]
          },
          "metadata": {},
          "execution_count": 89
        }
      ]
    },
    {
      "cell_type": "code",
      "source": [
        "df_pyspark.describe().show()"
      ],
      "metadata": {
        "colab": {
          "base_uri": "https://localhost:8080/"
        },
        "id": "hqB_dZ5y6gpG",
        "outputId": "4d8bd023-3b11-40c5-f0d8-ff9096dde0ec"
      },
      "execution_count": null,
      "outputs": [
        {
          "output_type": "stream",
          "name": "stdout",
          "text": [
            "+-------+----------------+-----------------+\n",
            "|summary|       recording|  Fraud_instances|\n",
            "+-------+----------------+-----------------+\n",
            "|  count|             100|              100|\n",
            "|   mean|            NULL|             3.08|\n",
            "| stddev|            NULL|4.044400044156329|\n",
            "|    min|recording_00.mp3|                0|\n",
            "|    max|recording_99.mp3|               20|\n",
            "+-------+----------------+-----------------+\n",
            "\n"
          ]
        }
      ]
    },
    {
      "cell_type": "markdown",
      "source": [
        "### Adding columns"
      ],
      "metadata": {
        "id": "LVE70sWN7CwQ"
      }
    },
    {
      "cell_type": "code",
      "source": [
        "df_pyspark = df_pyspark.withColumn('Intervals', df_pyspark['Fraud_instances']+4)"
      ],
      "metadata": {
        "id": "09ihhgym6lWR"
      },
      "execution_count": null,
      "outputs": []
    },
    {
      "cell_type": "code",
      "source": [
        "df_pyspark.show()"
      ],
      "metadata": {
        "colab": {
          "base_uri": "https://localhost:8080/"
        },
        "id": "bja1-mG570KK",
        "outputId": "d43ff283-2141-4cb4-905a-d6bdb15c45a5"
      },
      "execution_count": null,
      "outputs": [
        {
          "output_type": "stream",
          "name": "stdout",
          "text": [
            "+----------------+---------------+---------+\n",
            "|       recording|Fraud_instances|Intervals|\n",
            "+----------------+---------------+---------+\n",
            "|recording_01.mp3|              0|        4|\n",
            "|recording_02.mp3|              0|        4|\n",
            "|recording_03.mp3|              0|        4|\n",
            "|recording_00.mp3|              5|        9|\n",
            "|recording_09.mp3|              0|        4|\n",
            "|recording_04.mp3|              4|        8|\n",
            "|recording_11.mp3|              3|        7|\n",
            "|recording_18.mp3|              3|        7|\n",
            "|recording_14.mp3|              0|        4|\n",
            "|recording_13.mp3|              0|        4|\n",
            "|recording_06.mp3|              5|        9|\n",
            "|recording_16.mp3|              5|        9|\n",
            "|recording_17.mp3|              3|        7|\n",
            "|recording_19.mp3|              0|        4|\n",
            "|recording_12.mp3|              1|        5|\n",
            "|recording_05.mp3|              0|        4|\n",
            "|recording_10.mp3|              5|        9|\n",
            "|recording_08.mp3|             20|       24|\n",
            "|recording_15.mp3|              2|        6|\n",
            "|recording_07.mp3|              2|        6|\n",
            "+----------------+---------------+---------+\n",
            "only showing top 20 rows\n",
            "\n"
          ]
        }
      ]
    },
    {
      "cell_type": "markdown",
      "source": [
        "### Dropping columns\n"
      ],
      "metadata": {
        "id": "5mS4IMtm8F4c"
      }
    },
    {
      "cell_type": "code",
      "source": [
        "df_pyspark = df_pyspark.drop('Intervals')"
      ],
      "metadata": {
        "id": "DV9tASjL8D_G"
      },
      "execution_count": null,
      "outputs": []
    },
    {
      "cell_type": "code",
      "source": [
        "df_pyspark.show()"
      ],
      "metadata": {
        "colab": {
          "base_uri": "https://localhost:8080/"
        },
        "id": "f2ta6JDN8Sm9",
        "outputId": "ca6bda18-6db9-4249-f5b5-ed4f3f0cd29f"
      },
      "execution_count": null,
      "outputs": [
        {
          "output_type": "stream",
          "name": "stdout",
          "text": [
            "+----------------+---------------+\n",
            "|       recording|Fraud_instances|\n",
            "+----------------+---------------+\n",
            "|recording_01.mp3|              0|\n",
            "|recording_02.mp3|              0|\n",
            "|recording_03.mp3|              0|\n",
            "|recording_00.mp3|              5|\n",
            "|recording_09.mp3|              0|\n",
            "|recording_04.mp3|              4|\n",
            "|recording_11.mp3|              3|\n",
            "|recording_18.mp3|              3|\n",
            "|recording_14.mp3|              0|\n",
            "|recording_13.mp3|              0|\n",
            "|recording_06.mp3|              5|\n",
            "|recording_16.mp3|              5|\n",
            "|recording_17.mp3|              3|\n",
            "|recording_19.mp3|              0|\n",
            "|recording_12.mp3|              1|\n",
            "|recording_05.mp3|              0|\n",
            "|recording_10.mp3|              5|\n",
            "|recording_08.mp3|             20|\n",
            "|recording_15.mp3|              2|\n",
            "|recording_07.mp3|              2|\n",
            "+----------------+---------------+\n",
            "only showing top 20 rows\n",
            "\n"
          ]
        }
      ]
    },
    {
      "cell_type": "code",
      "source": [
        "df_pyspark.withColumnRenamed('recording', 'audio').show()"
      ],
      "metadata": {
        "colab": {
          "base_uri": "https://localhost:8080/"
        },
        "id": "3s4PFp2R9Y_w",
        "outputId": "e25120d2-7eea-4f5c-8f1a-126c064950f0"
      },
      "execution_count": null,
      "outputs": [
        {
          "output_type": "stream",
          "name": "stdout",
          "text": [
            "+----------------+---------------+\n",
            "|           audio|Fraud_instances|\n",
            "+----------------+---------------+\n",
            "|recording_01.mp3|              0|\n",
            "|recording_02.mp3|              0|\n",
            "|recording_03.mp3|              0|\n",
            "|recording_00.mp3|              5|\n",
            "|recording_09.mp3|              0|\n",
            "|recording_04.mp3|              4|\n",
            "|recording_11.mp3|              3|\n",
            "|recording_18.mp3|              3|\n",
            "|recording_14.mp3|              0|\n",
            "|recording_13.mp3|              0|\n",
            "|recording_06.mp3|              5|\n",
            "|recording_16.mp3|              5|\n",
            "|recording_17.mp3|              3|\n",
            "|recording_19.mp3|              0|\n",
            "|recording_12.mp3|              1|\n",
            "|recording_05.mp3|              0|\n",
            "|recording_10.mp3|              5|\n",
            "|recording_08.mp3|             20|\n",
            "|recording_15.mp3|              2|\n",
            "|recording_07.mp3|              2|\n",
            "+----------------+---------------+\n",
            "only showing top 20 rows\n",
            "\n"
          ]
        }
      ]
    },
    {
      "cell_type": "markdown",
      "source": [
        "## Pyspark DataFrames - Part 2\n",
        "\n",
        "\n"
      ],
      "metadata": {
        "id": "MIwtnBbD9xpx"
      }
    },
    {
      "cell_type": "code",
      "source": [
        "from pyspark.sql import SparkSession"
      ],
      "metadata": {
        "id": "_cqaUzOh9pH2"
      },
      "execution_count": null,
      "outputs": []
    },
    {
      "cell_type": "code",
      "source": [
        "spark = SparkSession.builder.appName('Dataframe').getOrCreate()"
      ],
      "metadata": {
        "id": "-niIgIle7Agv"
      },
      "execution_count": null,
      "outputs": []
    },
    {
      "cell_type": "code",
      "source": [
        "spark"
      ],
      "metadata": {
        "colab": {
          "base_uri": "https://localhost:8080/",
          "height": 219
        },
        "id": "TrCNXfUZ7hL3",
        "outputId": "8107a30e-3b0a-4c43-9161-6b997d0a2bb9"
      },
      "execution_count": null,
      "outputs": [
        {
          "output_type": "execute_result",
          "data": {
            "text/plain": [
              "<pyspark.sql.session.SparkSession at 0x7ad5237d6350>"
            ],
            "text/html": [
              "\n",
              "            <div>\n",
              "                <p><b>SparkSession - in-memory</b></p>\n",
              "                \n",
              "        <div>\n",
              "            <p><b>SparkContext</b></p>\n",
              "\n",
              "            <p><a href=\"http://64ee8bf2366d:4040\">Spark UI</a></p>\n",
              "\n",
              "            <dl>\n",
              "              <dt>Version</dt>\n",
              "                <dd><code>v3.5.1</code></dd>\n",
              "              <dt>Master</dt>\n",
              "                <dd><code>local[*]</code></dd>\n",
              "              <dt>AppName</dt>\n",
              "                <dd><code>Dataframe</code></dd>\n",
              "            </dl>\n",
              "        </div>\n",
              "        \n",
              "            </div>\n",
              "        "
            ]
          },
          "metadata": {},
          "execution_count": 10
        }
      ]
    },
    {
      "cell_type": "code",
      "source": [
        "df_pyspark=spark.read.csv('Furniture.csv',header=True,inferSchema=True)"
      ],
      "metadata": {
        "id": "vmVoPtB97iLN"
      },
      "execution_count": null,
      "outputs": []
    },
    {
      "cell_type": "code",
      "source": [
        "df_pyspark"
      ],
      "metadata": {
        "colab": {
          "base_uri": "https://localhost:8080/"
        },
        "id": "j7R6g49T8xbo",
        "outputId": "ed0f311a-0e13-4cbf-a855-dfd616e2128d"
      },
      "execution_count": null,
      "outputs": [
        {
          "output_type": "execute_result",
          "data": {
            "text/plain": [
              "DataFrame[date: string, transaction_id: int, customer_id: int, product: string, product_code: string, product_color: string, product_price: string, purchase_size: int, purchase_price: double, revenue: string]"
            ]
          },
          "metadata": {},
          "execution_count": 35
        }
      ]
    },
    {
      "cell_type": "code",
      "source": [
        "df_pyspark.na.drop()"
      ],
      "metadata": {
        "colab": {
          "base_uri": "https://localhost:8080/"
        },
        "id": "owfIX8oc8-2s",
        "outputId": "5009364b-383b-4a80-842a-54ca4ea37b8c"
      },
      "execution_count": null,
      "outputs": [
        {
          "output_type": "execute_result",
          "data": {
            "text/plain": [
              "DataFrame[date: string, transaction_id: int, customer_id: int, product: string, product_code: string, product_color: string, product_price: string, purchase_size: int, purchase_price: double, revenue: string]"
            ]
          },
          "metadata": {},
          "execution_count": 18
        }
      ]
    },
    {
      "cell_type": "code",
      "source": [
        "df_pyspark.na.fill('Missing values').show()"
      ],
      "metadata": {
        "colab": {
          "base_uri": "https://localhost:8080/"
        },
        "id": "sjq7F3Xw9sx6",
        "outputId": "299b68ef-639f-49bf-d3c8-77c539f88c03"
      },
      "execution_count": null,
      "outputs": [
        {
          "output_type": "stream",
          "name": "stdout",
          "text": [
            "+----------------+--------------+-----------+-------+------------+-------------+--------------+-------------+--------------+--------------+\n",
            "|            date|transaction_id|customer_id|product|product_code|product_color| product_price|purchase_size|purchase_price|       revenue|\n",
            "+----------------+--------------+-----------+-------+------------+-------------+--------------+-------------+--------------+--------------+\n",
            "|29/08/2020 00:00|          9900|       1980|    fan|    SKU83503|        brass|        $13.99|            2|         27.98|        $27.98|\n",
            "|01/05/2020 00:00|         12315|       2463|    fan|    SKU83503|        brass|        $13.99|            2|         27.98|        $27.98|\n",
            "|12/12/2020 00:00|          9890|       1978|    fan|    SKU83503|        white|        $13.99|            1|         13.99|        $13.99|\n",
            "|16/02/2020 00:00|         46915|       9383|    fan|    SKU83503|        black|        $13.99|            1|         13.99|        $13.99|\n",
            "|28/12/2020 00:00|         44700|       8940|    fan|    SKU83503|        brass|        $13.99|            2|         27.98|        $27.98|\n",
            "|28/12/2020 00:00|         44700|       8940|   lamp|    SKU95363|        brass|        $45.99|            5|       160.965|       $229.95|\n",
            "|11/10/2020 00:00|         12560|       2512|    bed|    SKU74796|        brown|Missing values|            1|        799.99|       $799.99|\n",
            "|29/06/2020 00:00|          9640|       1928|  couch|    SKU31871|         grey|     $1,000.00|            1|        1000.0|     $1,000.00|\n",
            "|10/11/2020 00:00|         22620|       4524|  couch|    SKU31871|         grey|     $1,000.00|         NULL|        1000.0|     $1,000.00|\n",
            "|05/02/2020 00:00|         49430|       9886|  couch|    SKU31871|         grey|     $1,000.00|            1|        1000.0|     $1,000.00|\n",
            "|28/04/2020 00:00|         49075|       9815|  couch|    SKU31871|         blue|     $1,000.00|            1|        1000.0|     $1,000.00|\n",
            "|23/01/2020 00:00|         37855|       7571|  couch|    SKU31871|       purple|     $1,000.00|            1|        1000.0|     $1,000.00|\n",
            "|16/02/2020 00:00|          9900|       1980|  couch|    SKU31871|        white|     $1,000.00|            1|        1000.0|Missing values|\n",
            "|12/10/2020 00:00|          1675|        335|  couch|    SKU31871|        white|     $1,000.00|            1|        1000.0|     $1,000.00|\n",
            "|08/07/2020 00:00|         23435|       4687|  couch|    SKU31871|        brown|     $1,000.00|            1|        1000.0|     $1,000.00|\n",
            "|21/10/2020 00:00|         19105|       3821|  couch|    SKU31871|        black|     $1,000.00|            1|        1000.0|     $1,000.00|\n",
            "|30/12/2020 00:00|         48035|       9607|    rug|    SKU19092|        beige|        $89.85|            3|        269.55|       $269.55|\n",
            "|25/09/2020 00:00|         31615|       6323|    rug|    SKU19092|         grey|        $89.85|            2|         179.7|       $179.70|\n",
            "|11/08/2020 00:00|         31775|       6355|    rug|    SKU19092|         grey|        $89.85|            1|         89.85|        $89.85|\n",
            "|07/09/2020 00:00|         21870|       4374|    rug|    SKU19092|        beige|        $89.85|            3|        269.55|Missing values|\n",
            "+----------------+--------------+-----------+-------+------------+-------------+--------------+-------------+--------------+--------------+\n",
            "only showing top 20 rows\n",
            "\n"
          ]
        }
      ]
    },
    {
      "cell_type": "code",
      "source": [
        "df_pyspark = df_pyspark.withColumn('product_price', df_pyspark.product_price.cast('Integer'))"
      ],
      "metadata": {
        "id": "bvuyfShfCTAU"
      },
      "execution_count": null,
      "outputs": []
    },
    {
      "cell_type": "code",
      "source": [
        "df_pyspark = df_pyspark.withColumn('revenue', df_pyspark.revenue.cast('Integer'))"
      ],
      "metadata": {
        "id": "I_Sx2KWbC8Yk"
      },
      "execution_count": null,
      "outputs": []
    },
    {
      "cell_type": "code",
      "source": [
        "df_pyspark"
      ],
      "metadata": {
        "colab": {
          "base_uri": "https://localhost:8080/"
        },
        "id": "Wyh9iyKcDM5-",
        "outputId": "8cb905fc-09c8-42b9-d585-04f14a4e4efa"
      },
      "execution_count": null,
      "outputs": [
        {
          "output_type": "execute_result",
          "data": {
            "text/plain": [
              "DataFrame[date: string, transaction_id: int, customer_id: int, product: string, product_code: string, product_color: string, product_price: int, purchase_size: int, purchase_price: double, revenue: int]"
            ]
          },
          "metadata": {},
          "execution_count": 52
        }
      ]
    },
    {
      "cell_type": "code",
      "source": [
        "from pyspark.ml.feature import Imputer\n",
        "\n",
        "imputer = Imputer(\n",
        "    inputCols=['product_price', 'purchase_size', 'purchase_price', 'revenue'],\n",
        "    outputCols=[\"{}_imputed\".format(c) for c in ['product_price', 'purchase_size', 'purchase_price', 'revenue']]\n",
        "    ).setStrategy(\"mean\")"
      ],
      "metadata": {
        "id": "RINLj0P6--Os"
      },
      "execution_count": null,
      "outputs": []
    },
    {
      "cell_type": "code",
      "source": [
        "imputer.fit(df_pyspark).transform(df_pyspark).show()"
      ],
      "metadata": {
        "colab": {
          "base_uri": "https://localhost:8080/"
        },
        "id": "PIteY2Md_9kv",
        "outputId": "213dc277-221f-482c-8bac-85099f1c4d48"
      },
      "execution_count": null,
      "outputs": [
        {
          "output_type": "stream",
          "name": "stdout",
          "text": [
            "+----------------+--------------+-----------+-------+------------+-------------+-------------+-------------+--------------+-------+---------------------+---------------------+----------------------+---------------+\n",
            "|            date|transaction_id|customer_id|product|product_code|product_color|product_price|purchase_size|purchase_price|revenue|product_price_imputed|purchase_size_imputed|purchase_price_imputed|revenue_imputed|\n",
            "+----------------+--------------+-----------+-------+------------+-------------+-------------+-------------+--------------+-------+---------------------+---------------------+----------------------+---------------+\n",
            "|29/08/2020 00:00|          9900|       1980|    fan|    SKU83503|        brass|           13|            2|         27.98|     27|                   13|                    2|                 27.98|             27|\n",
            "|01/05/2020 00:00|         12315|       2463|    fan|    SKU83503|        brass|           13|            2|         27.98|     27|                   13|                    2|                 27.98|             27|\n",
            "|12/12/2020 00:00|          9890|       1978|    fan|    SKU83503|        white|           13|            1|         13.99|     13|                   13|                    1|                 13.99|             13|\n",
            "|16/02/2020 00:00|         46915|       9383|    fan|    SKU83503|        black|           13|            1|         13.99|     13|                   13|                    1|                 13.99|             13|\n",
            "|28/12/2020 00:00|         44700|       8940|    fan|    SKU83503|        brass|           13|            2|         27.98|     27|                   13|                    2|                 27.98|             27|\n",
            "|28/12/2020 00:00|         44700|       8940|   lamp|    SKU95363|        brass|           45|            5|       160.965|    229|                   45|                    5|               160.965|            229|\n",
            "|11/10/2020 00:00|         12560|       2512|    bed|    SKU74796|        brown|         NULL|            1|        799.99|    799|                  111|                    1|                799.99|            799|\n",
            "|29/06/2020 00:00|          9640|       1928|  couch|    SKU31871|         grey|         NULL|            1|        1000.0|   NULL|                  111|                    1|                1000.0|            178|\n",
            "|10/11/2020 00:00|         22620|       4524|  couch|    SKU31871|         grey|         NULL|         NULL|        1000.0|   NULL|                  111|                    1|                1000.0|            178|\n",
            "|05/02/2020 00:00|         49430|       9886|  couch|    SKU31871|         grey|         NULL|            1|        1000.0|   NULL|                  111|                    1|                1000.0|            178|\n",
            "|28/04/2020 00:00|         49075|       9815|  couch|    SKU31871|         blue|         NULL|            1|        1000.0|   NULL|                  111|                    1|                1000.0|            178|\n",
            "|23/01/2020 00:00|         37855|       7571|  couch|    SKU31871|       purple|         NULL|            1|        1000.0|   NULL|                  111|                    1|                1000.0|            178|\n",
            "|16/02/2020 00:00|          9900|       1980|  couch|    SKU31871|        white|         NULL|            1|        1000.0|   NULL|                  111|                    1|                1000.0|            178|\n",
            "|12/10/2020 00:00|          1675|        335|  couch|    SKU31871|        white|         NULL|            1|        1000.0|   NULL|                  111|                    1|                1000.0|            178|\n",
            "|08/07/2020 00:00|         23435|       4687|  couch|    SKU31871|        brown|         NULL|            1|        1000.0|   NULL|                  111|                    1|                1000.0|            178|\n",
            "|21/10/2020 00:00|         19105|       3821|  couch|    SKU31871|        black|         NULL|            1|        1000.0|   NULL|                  111|                    1|                1000.0|            178|\n",
            "|30/12/2020 00:00|         48035|       9607|    rug|    SKU19092|        beige|           89|            3|        269.55|    269|                   89|                    3|                269.55|            269|\n",
            "|25/09/2020 00:00|         31615|       6323|    rug|    SKU19092|         grey|           89|            2|         179.7|    179|                   89|                    2|                 179.7|            179|\n",
            "|11/08/2020 00:00|         31775|       6355|    rug|    SKU19092|         grey|           89|            1|         89.85|     89|                   89|                    1|                 89.85|             89|\n",
            "|07/09/2020 00:00|         21870|       4374|    rug|    SKU19092|        beige|           89|            3|        269.55|   NULL|                   89|                    3|                269.55|            178|\n",
            "+----------------+--------------+-----------+-------+------------+-------------+-------------+-------------+--------------+-------+---------------------+---------------------+----------------------+---------------+\n",
            "only showing top 20 rows\n",
            "\n"
          ]
        }
      ]
    },
    {
      "cell_type": "markdown",
      "source": [
        "### Filter operations"
      ],
      "metadata": {
        "id": "b-Cki7pBGafU"
      }
    },
    {
      "cell_type": "code",
      "source": [
        "df_pyspark=spark.read.csv('results.csv',header=True,inferSchema=True)"
      ],
      "metadata": {
        "id": "GWWQgM0HAHGL"
      },
      "execution_count": null,
      "outputs": []
    },
    {
      "cell_type": "code",
      "source": [
        "df_pyspark.show()"
      ],
      "metadata": {
        "colab": {
          "base_uri": "https://localhost:8080/"
        },
        "id": "6jbxUk_PHVaQ",
        "outputId": "53bcbe89-8465-4b34-b2c4-55f69891913b"
      },
      "execution_count": null,
      "outputs": [
        {
          "output_type": "stream",
          "name": "stdout",
          "text": [
            "+----------------+---------------+---------------+\n",
            "|       recording|Fraud_instances|       Category|\n",
            "+----------------+---------------+---------------+\n",
            "|recording_01.mp3|              0|Legitimate call|\n",
            "|recording_02.mp3|              0|Legitimate call|\n",
            "|recording_03.mp3|              0|Legitimate call|\n",
            "|recording_00.mp3|              5|     Fraud Call|\n",
            "|recording_09.mp3|              0|Legitimate call|\n",
            "|recording_04.mp3|              4|     Fraud Call|\n",
            "|recording_11.mp3|              3|     Fraud Call|\n",
            "|recording_18.mp3|              3|     Fraud Call|\n",
            "|recording_14.mp3|              0|Legitimate call|\n",
            "|recording_13.mp3|              0|Legitimate call|\n",
            "|recording_06.mp3|              5|     Fraud Call|\n",
            "|recording_16.mp3|              5|     Fraud Call|\n",
            "|recording_17.mp3|              3|     Fraud Call|\n",
            "|recording_19.mp3|              0|Legitimate call|\n",
            "|recording_12.mp3|              1|     Fraud Call|\n",
            "|recording_05.mp3|              0|Legitimate call|\n",
            "|recording_10.mp3|              5|     Fraud Call|\n",
            "|recording_08.mp3|             20|     Fraud Call|\n",
            "|recording_15.mp3|              2|     Fraud Call|\n",
            "|recording_07.mp3|              2|     Fraud Call|\n",
            "+----------------+---------------+---------------+\n",
            "only showing top 20 rows\n",
            "\n"
          ]
        }
      ]
    },
    {
      "cell_type": "code",
      "source": [
        "### Recordings greater than or = 0 instances\n",
        "df_pyspark.filter(\"Fraud_instances>=1\").show()"
      ],
      "metadata": {
        "colab": {
          "base_uri": "https://localhost:8080/"
        },
        "id": "QfWhIOsNHY4-",
        "outputId": "14565625-62d8-4750-ad33-e7470bccdb66"
      },
      "execution_count": null,
      "outputs": [
        {
          "output_type": "stream",
          "name": "stdout",
          "text": [
            "+----------------+---------------+\n",
            "|       recording|Fraud_instances|\n",
            "+----------------+---------------+\n",
            "|recording_00.mp3|              5|\n",
            "|recording_04.mp3|              4|\n",
            "|recording_11.mp3|              3|\n",
            "|recording_18.mp3|              3|\n",
            "|recording_06.mp3|              5|\n",
            "|recording_16.mp3|              5|\n",
            "|recording_17.mp3|              3|\n",
            "|recording_12.mp3|              1|\n",
            "|recording_10.mp3|              5|\n",
            "|recording_08.mp3|             20|\n",
            "|recording_15.mp3|              2|\n",
            "|recording_07.mp3|              2|\n",
            "|recording_23.mp3|              5|\n",
            "|recording_21.mp3|              1|\n",
            "|recording_30.mp3|              3|\n",
            "|recording_32.mp3|              2|\n",
            "|recording_26.mp3|              2|\n",
            "|recording_25.mp3|             10|\n",
            "|recording_22.mp3|              2|\n",
            "|recording_31.mp3|              1|\n",
            "+----------------+---------------+\n",
            "only showing top 20 rows\n",
            "\n"
          ]
        }
      ]
    },
    {
      "cell_type": "code",
      "source": [
        "df_pyspark.filter(~(df_pyspark['Fraud_instances']>=1)).show()"
      ],
      "metadata": {
        "colab": {
          "base_uri": "https://localhost:8080/"
        },
        "id": "1afABcVHI-cJ",
        "outputId": "dd16af67-9d6b-4e11-b547-2a1f09a335bc"
      },
      "execution_count": null,
      "outputs": [
        {
          "output_type": "stream",
          "name": "stdout",
          "text": [
            "+----------------+---------------+\n",
            "|       recording|Fraud_instances|\n",
            "+----------------+---------------+\n",
            "|recording_01.mp3|              0|\n",
            "|recording_02.mp3|              0|\n",
            "|recording_03.mp3|              0|\n",
            "|recording_09.mp3|              0|\n",
            "|recording_14.mp3|              0|\n",
            "|recording_13.mp3|              0|\n",
            "|recording_19.mp3|              0|\n",
            "|recording_05.mp3|              0|\n",
            "|recording_20.mp3|              0|\n",
            "|recording_33.mp3|              0|\n",
            "|recording_27.mp3|              0|\n",
            "|recording_29.mp3|              0|\n",
            "|recording_24.mp3|              0|\n",
            "|recording_42.mp3|              0|\n",
            "|recording_35.mp3|              0|\n",
            "|recording_41.mp3|              0|\n",
            "|recording_36.mp3|              0|\n",
            "|recording_50.mp3|              0|\n",
            "|recording_58.mp3|              0|\n",
            "|recording_52.mp3|              0|\n",
            "+----------------+---------------+\n",
            "only showing top 20 rows\n",
            "\n"
          ]
        }
      ]
    },
    {
      "cell_type": "markdown",
      "source": [
        "### Group by and Aggregate functions"
      ],
      "metadata": {
        "id": "elyx2ASUJhLe"
      }
    },
    {
      "cell_type": "code",
      "source": [
        "df_pyspark.show()"
      ],
      "metadata": {
        "colab": {
          "base_uri": "https://localhost:8080/"
        },
        "id": "_F7VembWJHAx",
        "outputId": "eeaef6f6-a3cd-4bf8-aeb3-2945c6aa58a0"
      },
      "execution_count": null,
      "outputs": [
        {
          "output_type": "stream",
          "name": "stdout",
          "text": [
            "+----------------+---------------+---------------+\n",
            "|       recording|Fraud_instances|       Category|\n",
            "+----------------+---------------+---------------+\n",
            "|recording_01.mp3|              0|Legitimate call|\n",
            "|recording_02.mp3|              0|Legitimate call|\n",
            "|recording_03.mp3|              0|Legitimate call|\n",
            "|recording_00.mp3|              5|     Fraud Call|\n",
            "|recording_09.mp3|              0|Legitimate call|\n",
            "|recording_04.mp3|              4|     Fraud Call|\n",
            "|recording_11.mp3|              3|     Fraud Call|\n",
            "|recording_18.mp3|              3|     Fraud Call|\n",
            "|recording_14.mp3|              0|Legitimate call|\n",
            "|recording_13.mp3|              0|Legitimate call|\n",
            "|recording_06.mp3|              5|     Fraud Call|\n",
            "|recording_16.mp3|              5|     Fraud Call|\n",
            "|recording_17.mp3|              3|     Fraud Call|\n",
            "|recording_19.mp3|              0|Legitimate call|\n",
            "|recording_12.mp3|              1|     Fraud Call|\n",
            "|recording_05.mp3|              0|Legitimate call|\n",
            "|recording_10.mp3|              5|     Fraud Call|\n",
            "|recording_08.mp3|             20|     Fraud Call|\n",
            "|recording_15.mp3|              2|     Fraud Call|\n",
            "|recording_07.mp3|              2|     Fraud Call|\n",
            "+----------------+---------------+---------------+\n",
            "only showing top 20 rows\n",
            "\n"
          ]
        }
      ]
    },
    {
      "cell_type": "code",
      "source": [
        "df_pyspark.groupBy('recording').sum().show()"
      ],
      "metadata": {
        "colab": {
          "base_uri": "https://localhost:8080/"
        },
        "id": "dm6Yb_ZXLyd6",
        "outputId": "fd1cede5-8d05-4e86-ab35-29ef76a3442b"
      },
      "execution_count": null,
      "outputs": [
        {
          "output_type": "stream",
          "name": "stdout",
          "text": [
            "+----------------+--------------------+\n",
            "|       recording|sum(Fraud_instances)|\n",
            "+----------------+--------------------+\n",
            "|recording_33.mp3|                   0|\n",
            "|recording_31.mp3|                   1|\n",
            "|recording_16.mp3|                   5|\n",
            "|recording_35.mp3|                   0|\n",
            "|recording_42.mp3|                   0|\n",
            "|recording_92.mp3|                   0|\n",
            "|recording_71.mp3|                   5|\n",
            "|recording_40.mp3|                   1|\n",
            "|recording_19.mp3|                   0|\n",
            "|recording_47.mp3|                   9|\n",
            "|recording_62.mp3|                   0|\n",
            "|recording_11.mp3|                   3|\n",
            "|recording_17.mp3|                   3|\n",
            "|recording_23.mp3|                   5|\n",
            "|recording_38.mp3|                   1|\n",
            "|recording_97.mp3|                   4|\n",
            "|recording_07.mp3|                   2|\n",
            "|recording_45.mp3|                   3|\n",
            "|recording_41.mp3|                   0|\n",
            "|recording_04.mp3|                   4|\n",
            "+----------------+--------------------+\n",
            "only showing top 20 rows\n",
            "\n"
          ]
        }
      ]
    },
    {
      "cell_type": "code",
      "source": [
        "##Group by vishing or legitimate call\n",
        "df_pyspark.groupBy('Category').sum().show()"
      ],
      "metadata": {
        "colab": {
          "base_uri": "https://localhost:8080/"
        },
        "id": "E5fnsRP6MZb9",
        "outputId": "c6f792e2-e9d7-4a46-fe9f-44f2e55d5819"
      },
      "execution_count": null,
      "outputs": [
        {
          "output_type": "stream",
          "name": "stdout",
          "text": [
            "+---------------+--------------------+\n",
            "|       Category|sum(Fraud_instances)|\n",
            "+---------------+--------------------+\n",
            "|     Fraud Call|                 308|\n",
            "|Legitimate call|                   0|\n",
            "+---------------+--------------------+\n",
            "\n"
          ]
        }
      ]
    },
    {
      "cell_type": "code",
      "source": [
        "df_pyspark.groupBy('recording').min().show()"
      ],
      "metadata": {
        "colab": {
          "base_uri": "https://localhost:8080/"
        },
        "id": "0i52YRSCPJZB",
        "outputId": "c7c1d1a4-7043-4305-c736-48255d08678f"
      },
      "execution_count": null,
      "outputs": [
        {
          "output_type": "stream",
          "name": "stdout",
          "text": [
            "+----------------+--------------------+\n",
            "|       recording|min(Fraud_instances)|\n",
            "+----------------+--------------------+\n",
            "|recording_33.mp3|                   0|\n",
            "|recording_31.mp3|                   1|\n",
            "|recording_16.mp3|                   5|\n",
            "|recording_35.mp3|                   0|\n",
            "|recording_42.mp3|                   0|\n",
            "|recording_92.mp3|                   0|\n",
            "|recording_71.mp3|                   5|\n",
            "|recording_40.mp3|                   1|\n",
            "|recording_19.mp3|                   0|\n",
            "|recording_47.mp3|                   9|\n",
            "|recording_62.mp3|                   0|\n",
            "|recording_11.mp3|                   3|\n",
            "|recording_17.mp3|                   3|\n",
            "|recording_23.mp3|                   5|\n",
            "|recording_38.mp3|                   1|\n",
            "|recording_97.mp3|                   4|\n",
            "|recording_07.mp3|                   2|\n",
            "|recording_45.mp3|                   3|\n",
            "|recording_41.mp3|                   0|\n",
            "|recording_04.mp3|                   4|\n",
            "+----------------+--------------------+\n",
            "only showing top 20 rows\n",
            "\n"
          ]
        }
      ]
    },
    {
      "cell_type": "code",
      "source": [
        "df_pyspark.groupBy('recording').max().show()"
      ],
      "metadata": {
        "colab": {
          "base_uri": "https://localhost:8080/"
        },
        "id": "_W_FcH3hO5t0",
        "outputId": "e4691bdf-2336-4ecd-d286-312b650d270a"
      },
      "execution_count": null,
      "outputs": [
        {
          "output_type": "stream",
          "name": "stdout",
          "text": [
            "+----------------+--------------------+\n",
            "|       recording|max(Fraud_instances)|\n",
            "+----------------+--------------------+\n",
            "|recording_33.mp3|                   0|\n",
            "|recording_31.mp3|                   1|\n",
            "|recording_16.mp3|                   5|\n",
            "|recording_35.mp3|                   0|\n",
            "|recording_42.mp3|                   0|\n",
            "|recording_92.mp3|                   0|\n",
            "|recording_71.mp3|                   5|\n",
            "|recording_40.mp3|                   1|\n",
            "|recording_19.mp3|                   0|\n",
            "|recording_47.mp3|                   9|\n",
            "|recording_62.mp3|                   0|\n",
            "|recording_11.mp3|                   3|\n",
            "|recording_17.mp3|                   3|\n",
            "|recording_23.mp3|                   5|\n",
            "|recording_38.mp3|                   1|\n",
            "|recording_97.mp3|                   4|\n",
            "|recording_07.mp3|                   2|\n",
            "|recording_45.mp3|                   3|\n",
            "|recording_41.mp3|                   0|\n",
            "|recording_04.mp3|                   4|\n",
            "+----------------+--------------------+\n",
            "only showing top 20 rows\n",
            "\n"
          ]
        }
      ]
    },
    {
      "cell_type": "code",
      "source": [
        "df_pyspark.groupBy('Category').mean().show()"
      ],
      "metadata": {
        "colab": {
          "base_uri": "https://localhost:8080/"
        },
        "id": "lTDqaemkNgg0",
        "outputId": "800192a7-eb92-4f5c-f3af-1450f63c9c3c"
      },
      "execution_count": null,
      "outputs": [
        {
          "output_type": "stream",
          "name": "stdout",
          "text": [
            "+---------------+--------------------+\n",
            "|       Category|avg(Fraud_instances)|\n",
            "+---------------+--------------------+\n",
            "|     Fraud Call|              4.8125|\n",
            "|Legitimate call|                 0.0|\n",
            "+---------------+--------------------+\n",
            "\n"
          ]
        }
      ]
    },
    {
      "cell_type": "code",
      "source": [
        "df_pyspark.groupBy('Category').count().show()"
      ],
      "metadata": {
        "colab": {
          "base_uri": "https://localhost:8080/"
        },
        "id": "X2f8EzQmOO5p",
        "outputId": "28d33554-14f3-4562-8e3a-3ef05e6ce395"
      },
      "execution_count": null,
      "outputs": [
        {
          "output_type": "stream",
          "name": "stdout",
          "text": [
            "+---------------+-----+\n",
            "|       Category|count|\n",
            "+---------------+-----+\n",
            "|     Fraud Call|   64|\n",
            "|Legitimate call|   36|\n",
            "+---------------+-----+\n",
            "\n"
          ]
        }
      ]
    },
    {
      "cell_type": "code",
      "source": [
        "df_pyspark.agg({'Fraud_instances':'sum'}).show()"
      ],
      "metadata": {
        "colab": {
          "base_uri": "https://localhost:8080/"
        },
        "id": "IosS0c7MOTj6",
        "outputId": "c0394292-57da-4ab1-e6a1-2f3c5247c00d"
      },
      "execution_count": null,
      "outputs": [
        {
          "output_type": "stream",
          "name": "stdout",
          "text": [
            "+--------------------+\n",
            "|sum(Fraud_instances)|\n",
            "+--------------------+\n",
            "|                 308|\n",
            "+--------------------+\n",
            "\n"
          ]
        }
      ]
    },
    {
      "cell_type": "code",
      "source": [],
      "metadata": {
        "id": "gRn26pHjPlBk"
      },
      "execution_count": null,
      "outputs": []
    }
  ]
}